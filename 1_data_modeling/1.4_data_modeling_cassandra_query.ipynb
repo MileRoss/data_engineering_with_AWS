{
 "cells": [
  {
   "cell_type": "markdown",
   "metadata": {},
   "source": [
    "# 1.4_data_modeling_cassandra_query\n",
    "<img src=\"https://upload.wikimedia.org/wikipedia/commons/5/5e/Cassandra_logo.svg\" width=\"100\" height=\"100\">"
   ]
  },
  {
   "cell_type": "code",
   "execution_count": null,
   "metadata": {},
   "outputs": [],
   "source": [
    "#! pip install cassandra-driver\n",
    "\n",
    "# Import Apache Cassandra python package\n",
    "import cassandra\n",
    "from cassandra.cluster import Cluster\n",
    "\n",
    "# Connect to the cluster\n",
    "try: \n",
    "    cluster = Cluster(['127.0.0.1']) # If running locally\n",
    "    session = cluster.connect()\n",
    "except Exception as e:\n",
    "    print(e)\n",
    "\n",
    "# Create Keyspace\n",
    "try:\n",
    "    session.execute(\"\"\"\n",
    "        CREATE KEYSPACE IF NOT EXISTS udacity \n",
    "        WITH REPLICATION = { 'class' : 'SimpleStrategy', 'replication_factor' : 1 }\n",
    "    \"\"\")\n",
    "except Exception as e:\n",
    "    print(e)\n",
    "# Replication Strategy and factor information are covered in depth in Lesson 3. Remember, this will be the strategy and replication factor on a one node local instance. \n",
    "\n",
    "# Set keyspace\n",
    "try:\n",
    "    session.set_keyspace(\"udacity\")\n",
    "except Exception as e:\n",
    "    print(e)"
   ]
  },
  {
   "attachments": {},
   "cell_type": "markdown",
   "metadata": {},
   "source": [
    "# Data Modeling in Cassandra is QUERY-FOCUSED, and that focus is on WHERE clause.\n",
    "\n",
    "Query: get every album in the music library that was created by a given artist  `SELECT * FROM artist_library WHERE year=1965`\n",
    "\n",
    "<img src=\"images/1.4_data_modeling_cassandra_query.jpg\" width=\"30%\">"
   ]
  },
  {
   "cell_type": "code",
   "execution_count": null,
   "metadata": {},
   "outputs": [],
   "source": [
    "# 1st attempt: CREATE TABLE with simple primary key (artist_name)\n",
    "query = \"CREATE TABLE IF NOT EXISTS music_library \"\n",
    "query = query + \"(year int, city text, artist_name text, album_name text, PRIMARY KEY (year))\"\n",
    "try:\n",
    "    session.execute(query)\n",
    "except Exception as e:\n",
    "    print(e)\n",
    "\n",
    "# INSERT INTO\n",
    "query = \"INSERT INTO music_library (year, artist_name, album_name, city)\"\n",
    "query = query + \" VALUES (%s, %s, %s, %s)\"\n",
    "\n",
    "try:\n",
    "    session.execute(query, (1970, \"The Beatles\", \"Let It Be\", \"Liverpool\"))\n",
    "except Exception as e:\n",
    "    print(e)\n",
    "    \n",
    "try:\n",
    "    session.execute(query, (1965, \"The Beatles\", \"Rubber Soul\", \"Oxford\"))\n",
    "except Exception as e:\n",
    "    print(e)\n",
    "    \n",
    "try:\n",
    "    session.execute(query, (1965, \"The Who\", \"My Generation\", \"London\"))\n",
    "except Exception as e:\n",
    "    print(e)\n",
    "\n",
    "try:\n",
    "    session.execute(query, (1966, \"The Monkees\", \"The Monkees\", \"Los Angeles\"))\n",
    "except Exception as e:\n",
    "    print(e)\n",
    "\n",
    "try:\n",
    "    session.execute(query, (1970, \"The Carpenters\", \"Close To You\", \"San Diego\"))\n",
    "except Exception as e:\n",
    "    print(e)\n",
    "\n",
    "# QUERY\n",
    "query = \"SELECT * FROM music_library WHERE year=1965\"\n",
    "try:\n",
    "    rows = session.execute(query)\n",
    "except Exception as e:\n",
    "    print(e)\n",
    "    \n",
    "for row in rows:\n",
    "    print (row.year, row.artist_name, row.album_name, row.city)"
   ]
  },
  {
   "cell_type": "markdown",
   "metadata": {},
   "source": [
    "Is the output `1965 The Who My Generation London`? How come when there should also be `1965 The Beatles Rubber Soul Oxford`?  \n",
    "Cassandra doesn't allow duplicate rows, and since year is the primary key, the table accepts only one row for each year.  \n",
    "Every time you insert new row WHERE year=1965, the last inserted row will overwrite the previous one. That's how The Who overwrote The Beatles.  \n",
    "Fix: composite primary key (partition key = year, clustering column = artist_name)"
   ]
  },
  {
   "cell_type": "code",
   "execution_count": null,
   "metadata": {},
   "outputs": [],
   "source": [
    "# 2nd attempt: CREATE TABLE with composite primary key\n",
    "query = \"CREATE TABLE IF NOT EXISTS music_library2 \"\n",
    "query = query + \"(year int, artist_name text, album_name text, city text, PRIMARY KEY(year, artist_name))\"\n",
    "try:\n",
    "    session.execute(query)\n",
    "except Exception as e:\n",
    "    print(e)\n",
    "\n",
    "# INSERT INTO\n",
    "query = \"INSERT INTO music_library2 (year, artist_name, album_name, city)\"\n",
    "query = query + \" VALUES (%s, %s, %s, %s)\"\n",
    "\n",
    "try:\n",
    "    session.execute(query, (1970, \"The Beatles\", \"Let It Be\", \"Liverpool\"))\n",
    "except Exception as e:\n",
    "    print(e)\n",
    "    \n",
    "try:\n",
    "    session.execute(query, (1965, \"The Beatles\", \"Rubber Soul\", \"Oxford\"))\n",
    "except Exception as e:\n",
    "    print(e)\n",
    "    \n",
    "try:\n",
    "    session.execute(query, (1965, \"The Who\", \"My Generation\", \"London\"))\n",
    "except Exception as e:\n",
    "    print(e)\n",
    "\n",
    "try:\n",
    "    session.execute(query, (1966, \"The Monkees\", \"The Monkees\", \"Los Angeles\"))\n",
    "except Exception as e:\n",
    "    print(e)\n",
    "\n",
    "try:\n",
    "    session.execute(query, (1970, \"The Carpenters\", \"Close To You\", \"San Diego\"))\n",
    "except Exception as e:\n",
    "    print(e)\n",
    "\n",
    "# QUERY\n",
    "query = \"SELECT * FROM music_library2 WHERE year=1965\"\n",
    "try:\n",
    "    rows = session.execute(query)\n",
    "except Exception as e:\n",
    "    print(e)\n",
    "    \n",
    "for row in rows:\n",
    "    print (row.year, row.artist_name, row.album_name, row.city)"
   ]
  },
  {
   "cell_type": "markdown",
   "metadata": {},
   "source": [
    "The output should be:  \n",
    "1965 The Beatles Rubber Soul Oxford  \n",
    "1965 The Who My Generation London  \n",
    "\n",
    "If the query returned the ALLOW FILTERING error, it's because of using SELECT *. Such a query may work in a smaller dataset, but is generally advised against.  \n",
    "Here's the correct way to write the last query."
   ]
  },
  {
   "cell_type": "code",
   "execution_count": null,
   "metadata": {},
   "outputs": [],
   "source": [
    "# QUERY\n",
    "query = \"SELECT year, artist_name, album_name, city FROM music_library2 WHERE year=1965\"\n",
    "try:\n",
    "    rows = session.execute(query)\n",
    "except Exception as e:\n",
    "    print(e)\n",
    "    \n",
    "for row in rows:\n",
    "    print (row.year, row.artist_name, row.album_name, row.city)"
   ]
  },
  {
   "cell_type": "markdown",
   "metadata": {},
   "source": [
    "Here's another example of a query that will definitely return the ALLOW FILTERING error.  \n",
    "The reason: filter (use after WHERE) by non-key column, a column that's not part of the primary key.  "
   ]
  },
  {
   "cell_type": "code",
   "execution_count": null,
   "metadata": {},
   "outputs": [],
   "source": [
    "# Get all the albums from 1965 and London\n",
    "query = \"SELECT year, artist_name, album_name, city FROM music_library WHERE year=1965 AND city='London'\"\n",
    "try:\n",
    "    rows = session.execute(query)\n",
    "except Exception as e:\n",
    "    print(e)\n",
    "    \n",
    "for row in rows:\n",
    "    print (row.year, row.artist_name, row.album_name, row.city)"
   ]
  },
  {
   "cell_type": "code",
   "execution_count": null,
   "metadata": {},
   "outputs": [],
   "source": [
    "# DROP TABLES\n",
    "for t in [\"music_library\", \"music_library2\"]:\n",
    "    query = f\"DROP TABLE {t}\"\n",
    "    try:\n",
    "        rows = session.execute(query)\n",
    "    except Exception as e:\n",
    "        print(e)\n",
    "\n",
    "# Close the connection\n",
    "session.shutdown()\n",
    "cluster.shutdown()"
   ]
  }
 ],
 "metadata": {
  "kernelspec": {
   "display_name": "base",
   "language": "python",
   "name": "python3"
  },
  "language_info": {
   "codemirror_mode": {
    "name": "ipython",
    "version": 3
   },
   "file_extension": ".py",
   "mimetype": "text/x-python",
   "name": "python",
   "nbconvert_exporter": "python",
   "pygments_lexer": "ipython3",
   "version": "3.11.8"
  }
 },
 "nbformat": 4,
 "nbformat_minor": 4
}
